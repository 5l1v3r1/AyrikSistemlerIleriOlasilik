{
  "nbformat": 4,
  "nbformat_minor": 0,
  "metadata": {
    "colab": {
      "name": "RastgeleDegisken.ipynb",
      "provenance": [],
      "authorship_tag": "ABX9TyMmm1jYUFyzCLyBAXwysm3n",
      "include_colab_link": true
    },
    "kernelspec": {
      "name": "python3",
      "display_name": "Python 3"
    }
  },
  "cells": [
    {
      "cell_type": "markdown",
      "metadata": {
        "id": "view-in-github",
        "colab_type": "text"
      },
      "source": [
        "<a href=\"https://colab.research.google.com/github/gmihran/AyrikSistemlerIleriOlasilik/blob/master/RastgeleDegisken.ipynb\" target=\"_parent\"><img src=\"https://colab.research.google.com/assets/colab-badge.svg\" alt=\"Open In Colab\"/></a>"
      ]
    },
    {
      "cell_type": "markdown",
      "metadata": {
        "id": "UKCl4uNuvMo4",
        "colab_type": "text"
      },
      "source": [
        "# Binomial Rastgele Değişken Problemi:"
      ]
    },
    {
      "cell_type": "markdown",
      "metadata": {
        "id": "zI-WSDYTeKVx",
        "colab_type": "text"
      },
      "source": [
        "![Binomial](https://github.com/gmihran/AyrikSistemlerIleriOlasilik/blob/master/resimler/Binomial.jpg?raw=true)"
      ]
    },
    {
      "cell_type": "markdown",
      "metadata": {
        "id": "OznqNggOXZJz",
        "colab_type": "text"
      },
      "source": [
        "# Problem:\n",
        "Bir barınakta bulunan 100 kedinin 60 tanesi tekir, 10 tanesi kırma, 30 tanesi cins kedidir. \n",
        "\n",
        "Yeni evli bir çift bu barınaktan beş adet kedi sahiplenecektir. \n",
        "\n",
        "Bu çiftin sahiplendiği beş kediden ikisinin cins kedi olma olasılığı nedir?"
      ]
    },
    {
      "cell_type": "code",
      "metadata": {
        "id": "xRY3qCVvXVfq",
        "colab_type": "code",
        "outputId": "6ab4ff68-1e01-43d1-b043-c0a9ade8c2fa",
        "colab": {
          "base_uri": "https://localhost:8080/",
          "height": 85
        }
      },
      "source": [
        "from math import factorial\n",
        "\n",
        "def E():\n",
        "  #Ortalama hesaplama\n",
        "  global n,p,e\n",
        "  e=n*p\n",
        "\n",
        "def Var():\n",
        "  #varyans hesaplama\n",
        "  global e,p,var\n",
        "  E()\n",
        "  var=e*(1-p)\n",
        "  print(\"E[X]:\",e)\n",
        "  print(\"Var[X]:\",round(var,2))\n",
        "  print(\"Standart Sapma (σ):\",round(math.sqrt(var),2))\n",
        "\n",
        "def Binomial():\n",
        "  global n,k,p\n",
        "  return factorial(n)/(factorial(k)*factorial(n-k))*pow(p,k)*pow(1-p,(n-k))\n",
        "\n",
        "n=5\n",
        "k=2\n",
        "p=30/100\n",
        "Var()\n",
        "print(\"İki kedinin cins kedi olma olasılığı: %\",round(Binomial()*100,2))"
      ],
      "execution_count": 0,
      "outputs": [
        {
          "output_type": "stream",
          "text": [
            "E[X]: 1.5\n",
            "Var[X]: 1.05\n",
            "Standart Sapma (σ): 1.02\n",
            "İki kedinin cins kedi olma olasılığı: % 30.87\n"
          ],
          "name": "stdout"
        }
      ]
    },
    {
      "cell_type": "markdown",
      "metadata": {
        "id": "FRuqNNBevpRb",
        "colab_type": "text"
      },
      "source": [
        "# Poisson Dağılımı Problemi:"
      ]
    },
    {
      "cell_type": "markdown",
      "metadata": {
        "id": "cJVUvlqkvOt1",
        "colab_type": "text"
      },
      "source": [
        "![Poisson](https://github.com/gmihran/AyrikSistemlerIleriOlasilik/blob/master/resimler/Poisson.jpg?raw=true)"
      ]
    },
    {
      "cell_type": "markdown",
      "metadata": {
        "id": "33ZkQorpf1nK",
        "colab_type": "text"
      },
      "source": [
        "# Problem:\n",
        "\n",
        "Üniversitenin öğrenci bilgi sisteminde bir yılda hiç hata yapmayan, 1 öğrencinin notunu yanlış giren, 2 öğrencinin notunu yanlış giren ve 3 öğrencinin notunu yanlış giren öğretim üyesi olması olasılığı nedir ve 3000 dosyada kaç adet hatalı giriş bulunur?"
      ]
    },
    {
      "cell_type": "code",
      "metadata": {
        "id": "L60Z_0lHhQWA",
        "colab_type": "code",
        "outputId": "17047e23-ea3d-4754-882c-694a85030316",
        "colab": {
          "base_uri": "https://localhost:8080/",
          "height": 221
        }
      },
      "source": [
        "from math import factorial\n",
        "\n",
        "e= 2.71828\n",
        "\n",
        "def Poisson(k,lambd):\n",
        "  global poisson\n",
        "  poisson=round(pow(lambd,k)*pow(e,-lambd)/factorial(k),4)\n",
        "\n",
        "hatamiktari=[0,1,2,3]\n",
        "dosya=3000\n",
        "lambd=0.2\n",
        "for hata in hatamiktari:\n",
        "  Poisson(hata,lambd)\n",
        "  print(\"P({}):{}\".format(hata,poisson))\n",
        "  print(\"P({}) {} dosyadaki hata sayısı: ~{}\\n\".format(hata,dosya,round(dosya*poisson,4)))"
      ],
      "execution_count": 0,
      "outputs": [
        {
          "output_type": "stream",
          "text": [
            "P(0):0.8187\n",
            "P(0) 3000 dosyadaki hata sayısı: ~2456.1\n",
            "\n",
            "P(1):0.1637\n",
            "P(1) 3000 dosyadaki hata sayısı: ~491.1\n",
            "\n",
            "P(2):0.0164\n",
            "P(2) 3000 dosyadaki hata sayısı: ~49.2\n",
            "\n",
            "P(3):0.0011\n",
            "P(3) 3000 dosyadaki hata sayısı: ~3.3\n",
            "\n"
          ],
          "name": "stdout"
        }
      ]
    }
  ]
}