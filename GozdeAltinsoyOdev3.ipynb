{
  "nbformat": 4,
  "nbformat_minor": 0,
  "metadata": {
    "colab": {
      "name": "GozdeAltinsoyOdev3.ipynb",
      "provenance": [],
      "collapsed_sections": [],
      "authorship_tag": "ABX9TyNDItsHhpZ8R+eIZsCtxSPD",
      "include_colab_link": true
    },
    "kernelspec": {
      "name": "python3",
      "display_name": "Python 3"
    }
  },
  "cells": [
    {
      "cell_type": "markdown",
      "metadata": {
        "id": "view-in-github",
        "colab_type": "text"
      },
      "source": [
        "<a href=\"https://colab.research.google.com/github/gmihran/AyrikSistemlerIleriOlasilik/blob/master/GozdeAltinsoyOdev3.ipynb\" target=\"_parent\"><img src=\"https://colab.research.google.com/assets/colab-badge.svg\" alt=\"Open In Colab\"/></a>"
      ]
    },
    {
      "cell_type": "markdown",
      "metadata": {
        "id": "cSfy2F9two-F",
        "colab_type": "text"
      },
      "source": [
        "# Koşullu Olasılık ve Bayes Teoremi\n",
        "\n",
        "**Bayes Teoremi Formülü** : P(A|B) = P(A) * P(B|A) / P(B)\n",
        "\n",
        "## Problem:\n",
        "Araştırmaya göre her 100 kişiden 14 kişi Korona hastalığına yakalanmaktadır. Hastalığın teşhisinde kullanılabilecek 3 tane test seçeneği vardır. Fakat bu testler tam güvenilir sonuçlar üretememektedir. \n",
        "\n",
        "Testlerle ilgili aşağıdaki durumlar bilinmektedir.\n",
        "\n",
        "* **A testi**: Hasta olan kişilerde bu testin sonucu %90 pozitif çıkarken, hasta olmayan kişilerde bu testin sonucu %20 pozitif çıkmaktadır.\n",
        "\n",
        "* **B testi**: Hasta olan kişilerde bu testin sonucu %80 pozitif çıkarken, hasta olmayan kişilerde bu testin sonucu %10 pozitif çıkmaktadır.\n",
        "\n",
        "* **C testi**: Hasta olan kişilerde bu testin sonucu %70 pozitif çıkarken, hasta olmayan kişilerde bu testin sonucu %5 pozitif çıkmaktadır.\n",
        "\n",
        "Bu verilen bilgiler doğrultusunda; hastaneye yüklü miktarda alınacak olan A, B, C testlerinden hangi testi tercih etmeliyiz ki **testi pozitif çıkan bir kişinin gerçekten hasta olma olasılığı en iyi sonucu versin?**\n",
        "\n"
      ]
    },
    {
      "cell_type": "markdown",
      "metadata": {
        "id": "pZxxGWeqI-bE",
        "colab_type": "text"
      },
      "source": [
        "**Bayes Teoremi Formülü** : P(A|B) = P(A) * P(B|A) / P(B)\n",
        "\n",
        "**P(Hasta|Pozitif)** = P(Hasta) * P(Pozitif|Hasta) / P(Pozitif)\n",
        "\n",
        "**P(Pozitif)** = P(Hasta) * P(Pozitif|Hasta) + P(Hasta olmayan) * P(Pozitif|Hasta olmayan) \n",
        "\n",
        "\n",
        "---\n",
        "\n",
        "\n",
        "P(Hasta) = 0.14\n",
        "\n",
        "P(Hasta Olmayan) = 0.86\n",
        "\n",
        "P(Hasta|Pozitif) = ?\n",
        "\n",
        "\n",
        "---\n",
        "\n",
        "\n",
        "* A Testi:\n",
        "\n",
        "P(Pozitif|Hasta) = 0.9\n",
        "\n",
        "P(Pozitif|Hasta olmayan) = 0.2\n",
        "\n",
        "\n",
        "---\n",
        "\n",
        "\n",
        "* B Testi:\n",
        "\n",
        "P(Pozitif|Hasta) = 0.8\n",
        "\n",
        "P(Pozitif|Hasta olmayan) = 0.1\n",
        "\n",
        "\n",
        "---\n",
        "\n",
        "\n",
        "* C Testi:\n",
        "\n",
        "P(Pozitif|Hasta) = 0.7\n",
        "\n",
        "P(Pozitif|Hasta olmayan) = 0.05"
      ]
    },
    {
      "cell_type": "code",
      "metadata": {
        "id": "2XkBHzJ2wnYl",
        "colab_type": "code",
        "colab": {
          "base_uri": "https://localhost:8080/",
          "height": 85
        },
        "outputId": "f13d4764-0720-47ad-cf06-b69cdd2b9f4d"
      },
      "source": [
        "def ppozitif(X):\n",
        "  #Bu fonksiyon ile P(Pozitif) yani pozitif olma ihtimali hesaplanmaktadır.\n",
        "  #Bu fonksiyonda aşağıdaki formülü uygulayarak pozitif olma ihtimalini geri döndürmekteyiz.\n",
        "  #P(Pozitif) = P(Hasta) * P(Pozitif|Hasta) + P(Hasta olmayan) * P(Pozitif|Hasta olmayan) \n",
        "  return X[\"hasta\"]*X[\"phasta\"]+X[\"hastaolmayan\"]*X[\"phastaolmayan\"]\n",
        "\n",
        "def bayes(X):\n",
        "  #Bu fonksiyonda bayes formülü ile test sonucu pozitif çıkan bir kişinin gerçekten hasta olma ihtimali hesaplanmaktadır.\n",
        "  return X[\"hasta\"]*X[\"phasta\"]/ppozitif(X)\n",
        "  #Burada ppozitif fonksiyonuna değerlerimiz gönderilip, gelen pozitif olma ihtimali bayes formülünde çarpan olarak kullanılmaktadır.\n",
        "  #Formülde hasta olanların ihtimali ile hasta olanlardaki pozitif çıkma ihtimali çarpımı sonucu pozitif olma ihtimaline bölünmektedir.\n",
        "\n",
        "def tercih(X):\n",
        "  #Bu fonksiyonda en yüksek başarım oranına sahip olan testin indis değeri geri döndürülmektedir.\n",
        "  for i in range(len(X)):\n",
        "    if i==0:\n",
        "      mak=X[0][\"hastapozitif\"]\n",
        "      #ilk indis değerine sahip olan oranımız mak değer olarak kabul edilir.\n",
        "      indis=0\n",
        "    elif mak<X[i][\"hastapozitif\"]:\n",
        "      #eğer mak değerinden daha büyük olan bir değer olursa yeni mak değeri bu değer yapılır.\n",
        "      mak=X[i][\"hastapozitif\"]\n",
        "      indis=i\n",
        "      #maksimum oranın olduğu değerimizin indis indis değişkeninde tutulur ve bu değer geri döndürülür.\n",
        "  return indis\n",
        "    \n",
        "\n",
        "A={\"testadi\":\"A\",\"hasta\":0.14,\"hastaolmayan\":0.86,\"phasta\":0.9,\"phastaolmayan\":0.2}\n",
        "B={\"testadi\":\"B\",\"hasta\":0.14,\"hastaolmayan\":0.86,\"phasta\":0.8,\"phastaolmayan\":0.1}\n",
        "C={\"testadi\":\"C\",\"hasta\":0.14,\"hastaolmayan\":0.86,\"phasta\":0.7,\"phastaolmayan\":0.05}\n",
        "#A, B, C testlerine ait olan veriler bir sözlük (dictionary) yapısında tutularak ihtiyacımız olan değerlere \n",
        "#anahtar (key) ve değer (value) yapısı ile erişmek bize özellikle fonksiyonlarda kolaylık sağlamaktadır. \n",
        "\n",
        "testler=[A,B,C]\n",
        "#testlerin bir listede (list) tutulması program içerisinde döngü kullanmamızı kolaylaştıracak ve fonksiyonlara tek bir adımda \n",
        "#göndermemizde bize kolaylık sağlayacaktır.\n",
        "\n",
        "for i in range(len(testler)):\n",
        "  #testlerin tümü teker teker bayes fonksiyonuna gönderilerek ihtiyacımız olan değer hesaplanmaktadır.\n",
        "  testler[i][\"hastapozitif\"]=bayes(testler[i])\n",
        "  #Bu hesaplanan değer sözlüğümüzde hastapozitif (yani pozitif sonucu olanların gerçekten hasta olma ihtimali) anahtarıyla \n",
        "  #sözlüklerimize sırasıyla kaydedilmektedir. \n",
        "  print(testler[i][\"testadi\"],\"->\",testler[i][\"hastapozitif\"])\n",
        "  #P(Hasta|Positif) oranları her bir test için testlerin adıyla beraber ekrana çıktı olarak gönderilmektedir.\n",
        "\n",
        "indis=tercih(testler)\n",
        "#tercih fonksiyonuna testlerin gönderilmesiyle, hangi testin başarım oranının diğerlerinden daha yüksek olduğunu bulabilmekteyiz.\n",
        "print(\"%\",round(testler[indis][\"hastapozitif\"]*100,2),\"oranına sahip olan\",testler[indis][\"testadi\"],\"testi tercih edilmelidir.\")\n",
        "#En yüksek başarım oranına sahip olan test ekrana ismi ve oranıyla beraber yazdırılmaktadır."
      ],
      "execution_count": 22,
      "outputs": [
        {
          "output_type": "stream",
          "text": [
            "A -> 0.4228187919463088\n",
            "B -> 0.5656565656565657\n",
            "C -> 0.6950354609929078\n",
            "% 69.5 oranına sahip olan C testi tercih edilmelidir.\n"
          ],
          "name": "stdout"
        }
      ]
    }
  ]
}