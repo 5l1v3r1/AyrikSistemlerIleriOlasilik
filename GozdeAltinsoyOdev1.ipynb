{
  "nbformat": 4,
  "nbformat_minor": 0,
  "metadata": {
    "colab": {
      "name": "GozdeAltinsoyOdev1.ipynb",
      "provenance": [],
      "authorship_tag": "ABX9TyM32rwmCgM/OtY722PAHycZ",
      "include_colab_link": true
    },
    "kernelspec": {
      "name": "python3",
      "display_name": "Python 3"
    }
  },
  "cells": [
    {
      "cell_type": "markdown",
      "metadata": {
        "id": "view-in-github",
        "colab_type": "text"
      },
      "source": [
        "<a href=\"https://colab.research.google.com/github/gmihran/AyrikSistemlerIleriOlasilik/blob/master/GozdeAltinsoyOdev1.ipynb\" target=\"_parent\"><img src=\"https://colab.research.google.com/assets/colab-badge.svg\" alt=\"Open In Colab\"/></a>"
      ]
    },
    {
      "cell_type": "markdown",
      "metadata": {
        "id": "CXchraGmN8FI",
        "colab_type": "text"
      },
      "source": [
        "# **Problem**: 1,2,.....,2004 sayılarından en fazla kaç tane sayı öyle seçilebilir ki, seçilmiş bu sayılardan alınmış hiçbir ikisinin toplamı bunların farkına bölünmesin."
      ]
    },
    {
      "cell_type": "markdown",
      "metadata": {
        "id": "BC6_KYZzPKAJ",
        "colab_type": "text"
      },
      "source": [
        "**Problem Çözümü:** Bu sayılardan n mod 3 == 1 koşulunu sağlayan 668 tane sayıyı, yani 1, 4, 7, ..., 2002 sayılarını alalım. Bunlardan n ve m gibi herhangi ikisini aldığımızda n + m mod 3 == 2 ve n - m mod 3 == 0 olduğundan n+m toplamı n - m'e bölünmez.\n",
        "\n",
        "Diğer taraftan 668'den fazla sayı alındığında Güvercin Yuvası ilkesinden {1, 2, 3}, {4, 5, 6}, {7, 8, 9}, ..., {2002,2003,2004} kümelerinden birinden en az iki eleman alınmış olacak. Bu iki elemanın farkı ya 1, ya da 2 olacak. Her iki durumda bunların toplamı farklarına bölünecek (çünkü sayının farkı çiftçe, toplamı da çifttir)."
      ]
    },
    {
      "cell_type": "code",
      "metadata": {
        "id": "LRyTM1YsOCJq",
        "colab_type": "code",
        "colab": {}
      },
      "source": [
        "def sayikontrol(sayilar,sayi,n):\n",
        "    kontrol=False\n",
        "    for i in range(0,len(sayilar)):\n",
        "        fark=sayi-sayilar[i]\n",
        "        toplam=sayi+sayilar[i]\n",
        "        if toplam%fark==0:\n",
        "            kontrol=True\n",
        "            break\n",
        "    if kontrol==False:\n",
        "        sayilar.append(sayi)        \n",
        "        n=n+1\n",
        "    return n,sayilar"
      ],
      "execution_count": 0,
      "outputs": []
    },
    {
      "cell_type": "markdown",
      "metadata": {
        "id": "0Nm8nhKqOYE-",
        "colab_type": "text"
      },
      "source": [
        "Program ilk çalıştığında **sayikontrol(sayilar,sayi,n)** fonksiyona **sayilar (list), sayi (int) ve n (int)** değerleri gönderilmektedir. \n",
        "\n",
        "For döngüsü kullanılarak **sayikontrol(sayilar,sayi,n)** fonksiyonuna sayi değişkeni ile **1 ile 2002 arasındaki değerler** sırasıyla gönderilmektedir.\n",
        "\n",
        "Fonksiyon ilk çalıştığında fonksiyona gönderilen **sayilar** listesinde herhangi bir değer bulunmamaktadır ve 3.parametresi olan **n** değerinin içinde **0** değeri saklanmaktadır.\n",
        "\n",
        "Bu fonksiyona gönderilen sayi değişkeninde saklanan sayının listedeki tüm elemanlar ile tek tek **toplam mod fark == 0** durumuna bakılır. Eğer bu durumun sonucu **True** ise fonksiyonun başında **False** değeri atanmış olan **kontrol** değişkenine **True** değeri atanır. Bu karşılaştırma sonucunun True değerini almasından sonra diğer sayılar ile aynı kontrolü yapmamıza gerek olmadığı için For döngüsü kırılır.\n",
        "\n",
        "Eğer **kontrol** değişkeninin içerisinde **False** değeri saklanıyorsa **sayi** değeri **sayilar** isimli listeye eklenir ve **n** sayısı **1 arttırılır**. **sayikontrol(sayilar,sayi,n)** fonksiyonu **sayilar** listesini ve **n** sayısını **ana metoda geri döndürür**. "
      ]
    },
    {
      "cell_type": "code",
      "metadata": {
        "id": "c-xp0o65OXbT",
        "colab_type": "code",
        "colab": {
          "base_uri": "https://localhost:8080/",
          "height": 88
        },
        "outputId": "29a5543d-98dc-46c7-9093-cc9f9f7a5f8d"
      },
      "source": [
        "sayilar=[]\n",
        "n=0\n",
        "for sayi in range(1,2003): \n",
        "    n,sayilar=sayikontrol(sayilar,sayi,n)\n",
        "print(\"Sayılar:\\n\",sayilar,\"\\nSayı miktarı:\",n)   "
      ],
      "execution_count": 3,
      "outputs": [
        {
          "output_type": "stream",
          "text": [
            "Sayılar:\n",
            " [1, 4, 7, 10, 13, 16, 19, 22, 25, 28, 31, 34, 37, 40, 43, 46, 49, 52, 55, 58, 61, 64, 67, 70, 73, 76, 79, 82, 85, 88, 91, 94, 97, 100, 103, 106, 109, 112, 115, 118, 121, 124, 127, 130, 133, 136, 139, 142, 145, 148, 151, 154, 157, 160, 163, 166, 169, 172, 175, 178, 181, 184, 187, 190, 193, 196, 199, 202, 205, 208, 211, 214, 217, 220, 223, 226, 229, 232, 235, 238, 241, 244, 247, 250, 253, 256, 259, 262, 265, 268, 271, 274, 277, 280, 283, 286, 289, 292, 295, 298, 301, 304, 307, 310, 313, 316, 319, 322, 325, 328, 331, 334, 337, 340, 343, 346, 349, 352, 355, 358, 361, 364, 367, 370, 373, 376, 379, 382, 385, 388, 391, 394, 397, 400, 403, 406, 409, 412, 415, 418, 421, 424, 427, 430, 433, 436, 439, 442, 445, 448, 451, 454, 457, 460, 463, 466, 469, 472, 475, 478, 481, 484, 487, 490, 493, 496, 499, 502, 505, 508, 511, 514, 517, 520, 523, 526, 529, 532, 535, 538, 541, 544, 547, 550, 553, 556, 559, 562, 565, 568, 571, 574, 577, 580, 583, 586, 589, 592, 595, 598, 601, 604, 607, 610, 613, 616, 619, 622, 625, 628, 631, 634, 637, 640, 643, 646, 649, 652, 655, 658, 661, 664, 667, 670, 673, 676, 679, 682, 685, 688, 691, 694, 697, 700, 703, 706, 709, 712, 715, 718, 721, 724, 727, 730, 733, 736, 739, 742, 745, 748, 751, 754, 757, 760, 763, 766, 769, 772, 775, 778, 781, 784, 787, 790, 793, 796, 799, 802, 805, 808, 811, 814, 817, 820, 823, 826, 829, 832, 835, 838, 841, 844, 847, 850, 853, 856, 859, 862, 865, 868, 871, 874, 877, 880, 883, 886, 889, 892, 895, 898, 901, 904, 907, 910, 913, 916, 919, 922, 925, 928, 931, 934, 937, 940, 943, 946, 949, 952, 955, 958, 961, 964, 967, 970, 973, 976, 979, 982, 985, 988, 991, 994, 997, 1000, 1003, 1006, 1009, 1012, 1015, 1018, 1021, 1024, 1027, 1030, 1033, 1036, 1039, 1042, 1045, 1048, 1051, 1054, 1057, 1060, 1063, 1066, 1069, 1072, 1075, 1078, 1081, 1084, 1087, 1090, 1093, 1096, 1099, 1102, 1105, 1108, 1111, 1114, 1117, 1120, 1123, 1126, 1129, 1132, 1135, 1138, 1141, 1144, 1147, 1150, 1153, 1156, 1159, 1162, 1165, 1168, 1171, 1174, 1177, 1180, 1183, 1186, 1189, 1192, 1195, 1198, 1201, 1204, 1207, 1210, 1213, 1216, 1219, 1222, 1225, 1228, 1231, 1234, 1237, 1240, 1243, 1246, 1249, 1252, 1255, 1258, 1261, 1264, 1267, 1270, 1273, 1276, 1279, 1282, 1285, 1288, 1291, 1294, 1297, 1300, 1303, 1306, 1309, 1312, 1315, 1318, 1321, 1324, 1327, 1330, 1333, 1336, 1339, 1342, 1345, 1348, 1351, 1354, 1357, 1360, 1363, 1366, 1369, 1372, 1375, 1378, 1381, 1384, 1387, 1390, 1393, 1396, 1399, 1402, 1405, 1408, 1411, 1414, 1417, 1420, 1423, 1426, 1429, 1432, 1435, 1438, 1441, 1444, 1447, 1450, 1453, 1456, 1459, 1462, 1465, 1468, 1471, 1474, 1477, 1480, 1483, 1486, 1489, 1492, 1495, 1498, 1501, 1504, 1507, 1510, 1513, 1516, 1519, 1522, 1525, 1528, 1531, 1534, 1537, 1540, 1543, 1546, 1549, 1552, 1555, 1558, 1561, 1564, 1567, 1570, 1573, 1576, 1579, 1582, 1585, 1588, 1591, 1594, 1597, 1600, 1603, 1606, 1609, 1612, 1615, 1618, 1621, 1624, 1627, 1630, 1633, 1636, 1639, 1642, 1645, 1648, 1651, 1654, 1657, 1660, 1663, 1666, 1669, 1672, 1675, 1678, 1681, 1684, 1687, 1690, 1693, 1696, 1699, 1702, 1705, 1708, 1711, 1714, 1717, 1720, 1723, 1726, 1729, 1732, 1735, 1738, 1741, 1744, 1747, 1750, 1753, 1756, 1759, 1762, 1765, 1768, 1771, 1774, 1777, 1780, 1783, 1786, 1789, 1792, 1795, 1798, 1801, 1804, 1807, 1810, 1813, 1816, 1819, 1822, 1825, 1828, 1831, 1834, 1837, 1840, 1843, 1846, 1849, 1852, 1855, 1858, 1861, 1864, 1867, 1870, 1873, 1876, 1879, 1882, 1885, 1888, 1891, 1894, 1897, 1900, 1903, 1906, 1909, 1912, 1915, 1918, 1921, 1924, 1927, 1930, 1933, 1936, 1939, 1942, 1945, 1948, 1951, 1954, 1957, 1960, 1963, 1966, 1969, 1972, 1975, 1978, 1981, 1984, 1987, 1990, 1993, 1996, 1999, 2002] \n",
            "Sayı miktarı: 668\n"
          ],
          "name": "stdout"
        }
      ]
    },
    {
      "cell_type": "markdown",
      "metadata": {
        "id": "SArti5aba2no",
        "colab_type": "text"
      },
      "source": [
        "Ana metodumuzda **sayikontrol(sayilar,sayi,n)** fonksiyonu çağrılmaktadır. Bu işlem For döngüsü bitene kadar yani sayi değeri 2002 sayısına eşit olana kadar (2002 dahil) devam eder. \n",
        "\n",
        "Bu işlem sonucunda bize geri döndürülen **sayilar** listesinin içerisinde saklanan değer miktarına **len(sayilar)** ile bakılarak (n sayısına gerek kalmadan) da çözüm bulunabilir.\n",
        "\n",
        "Programın çıktısına bakıldığında sayilar listesinde **[1,4,7,10,...,1996,1999,2002]** sayılarının saklandığı görülmektedir. \n",
        "\n",
        "Problemimizin sonucu bu sayıların miktarı olan **668** sayısıdır."
      ]
    }
  ]
}