{
  "nbformat": 4,
  "nbformat_minor": 0,
  "metadata": {
    "colab": {
      "name": "GozdeAltinsoyOdev1.ipynb",
      "provenance": [],
      "authorship_tag": "ABX9TyMJWGzKCGu/KX3sMtj29svn",
      "include_colab_link": true
    },
    "kernelspec": {
      "name": "python3",
      "display_name": "Python 3"
    }
  },
  "cells": [
    {
      "cell_type": "markdown",
      "metadata": {
        "id": "view-in-github",
        "colab_type": "text"
      },
      "source": [
        "<a href=\"https://colab.research.google.com/github/gmihran/AyrikSistemlerIleriOlasilik/blob/master/GozdeAltinsoyOdev1.ipynb\" target=\"_parent\"><img src=\"https://colab.research.google.com/assets/colab-badge.svg\" alt=\"Open In Colab\"/></a>"
      ]
    },
    {
      "cell_type": "markdown",
      "metadata": {
        "id": "PIecir2moND2",
        "colab_type": "text"
      },
      "source": [
        "# **Problem:** KEKEME sözcüğündeki harfleri kullanarak anlamlı anlamsız 6 harfli kaç farklı sözcük türetilebilir?\n",
        "\n",
        "**Çözüm:** Verilen sözcükte iki tane K, üç tane E ve bir tane M harfi olduğundan 6! / (2! \\* 3! \\* 1!) = 60 sonucu elde edilir."
      ]
    },
    {
      "cell_type": "code",
      "metadata": {
        "id": "X1pPJbmunI5U",
        "colab_type": "code",
        "colab": {}
      },
      "source": [
        "def faktoriyel(sayi):\n",
        "    if sayi==1:\n",
        "        return 1\n",
        "    else:\n",
        "        return sayi * faktoriyel(sayi-1) "
      ],
      "execution_count": 0,
      "outputs": []
    },
    {
      "cell_type": "markdown",
      "metadata": {
        "id": "0jPWWeN91h9F",
        "colab_type": "text"
      },
      "source": [
        "**faktoriyel(sayi)** fonksiyonu özyinelemeli bir fonksiyondur. Yani kendisine gönderilen sayı değeri **1 değerine eşit olana** kadar **sayının 1 eksiğini** alarak yine kendisine gönderdiğinden fonksiyon kendini yinelemektedir. Burada **sayi ile 1** arasındaki değerlerin birbirleri ile çarpımı bulunarak fonksiyona gönderilen **sayi** değerinin **faktöriyel** sonucu hesaplanmaktadır."
      ]
    },
    {
      "cell_type": "code",
      "metadata": {
        "id": "yyi9D49d1iPE",
        "colab_type": "code",
        "colab": {}
      },
      "source": [
        "def permutasyon(kelime):\n",
        "    harfler=[]\n",
        "    harf=[]\n",
        "    miktar=[]\n",
        "    bolum=1\n",
        "    for h in kelime:\n",
        "        harfler.append(h)\n",
        "    harfsayisi=len(harfler)\n",
        "    for h in harfler:\n",
        "        if not h in harf:\n",
        "            harf.append(h)\n",
        "            miktar.append(harfler.count(h))\n",
        "    for i in miktar:\n",
        "        bolum=bolum*faktoriyel(i)\n",
        "    return int(faktoriyel(harfsayisi)/bolum)        "
      ],
      "execution_count": 0,
      "outputs": []
    },
    {
      "cell_type": "markdown",
      "metadata": {
        "id": "3FJa2Mvc1ksr",
        "colab_type": "text"
      },
      "source": [
        "**permutasyon(kelime)** fonksiyonu kendisine gönderilen kelimenin içerisinde yer alan harfleri ve harflerin tekrar sayılarını bulmaktadır. \n",
        "\n",
        "Kelimenin içerisindeki harflerin tekrar sayılarını **faktoriyel(sayi)** fonksiyona göndererek faktöriyellerini hesaplatıp daha sonra faktöriyel sonuçlarının çarpımını **bolum** değişkeninde tutmaktadır. \n",
        "\n",
        "Kelimenin içerisinde yer alan tüm harflerin sayısının faktöriyelini **faktoriyel(sayi)** fonksiyonu ile hesaplatıp  bolum değişkenine bölerek çıkan sonucu geri döndürmektedir."
      ]
    },
    {
      "cell_type": "code",
      "metadata": {
        "id": "ywEJs84U1k5L",
        "colab_type": "code",
        "colab": {
          "base_uri": "https://localhost:8080/",
          "height": 34
        },
        "outputId": "2e3ec11a-f080-4508-83c8-345e639cdc2d"
      },
      "source": [
        "kelime=\"KEKEME\"\n",
        "print(permutasyon(kelime))"
      ],
      "execution_count": 3,
      "outputs": [
        {
          "output_type": "stream",
          "text": [
            "60\n"
          ],
          "name": "stdout"
        }
      ]
    },
    {
      "cell_type": "markdown",
      "metadata": {
        "id": "jrNXppMU4d7z",
        "colab_type": "text"
      },
      "source": [
        "**kelime** değişkenine **\"KEKEME\"** kelimesi aktarılmıştır. Bu kelime **permutasyon(kelime)** fonksiyonuna gönderilmiştir.\n",
        "\n",
        "Bunun sonucunda problemin sonucu olan **60** değeri geri döndürülmüş ve ekrana yazdırılmıştır."
      ]
    }
  ]
}