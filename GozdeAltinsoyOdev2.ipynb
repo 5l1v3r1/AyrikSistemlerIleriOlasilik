{
  "nbformat": 4,
  "nbformat_minor": 0,
  "metadata": {
    "colab": {
      "name": "GozdeAltinsoyOdev2.ipynb",
      "provenance": [],
      "authorship_tag": "ABX9TyM4Jg782YjnRnKSsz0aRfKk",
      "include_colab_link": true
    },
    "kernelspec": {
      "name": "python3",
      "display_name": "Python 3"
    }
  },
  "cells": [
    {
      "cell_type": "markdown",
      "metadata": {
        "id": "view-in-github",
        "colab_type": "text"
      },
      "source": [
        "<a href=\"https://colab.research.google.com/github/gmihran/AyrikSistemlerIleriOlasilik/blob/master/GozdeAltinsoyOdev2.ipynb\" target=\"_parent\"><img src=\"https://colab.research.google.com/assets/colab-badge.svg\" alt=\"Open In Colab\"/></a>"
      ]
    },
    {
      "cell_type": "markdown",
      "metadata": {
        "id": "f7JVC1wS_hUf",
        "colab_type": "text"
      },
      "source": [
        "# Karşılaşma Problemi (Permütasyon)\n",
        "\n",
        "### **Problem** : Bir spor salonuna günde 3000 kişi spor yapmak için geliyor. Gelen kişilerin %40'ı kilo vermek istiyor. Sabah saatlerinde (08:00-12:00 saatleri arasında) kulübe 200 kişi geliyor. \n",
        "### Sabah saatlerinde kulübe gelen kişilerden kilo vermek isteyen bir kişiyle karşılaşma olasılığımız nedir?"
      ]
    },
    {
      "cell_type": "markdown",
      "metadata": {
        "id": "9VtUlE3j_662",
        "colab_type": "text"
      },
      "source": [
        "**p (Toplam Kişi)** = 3000\n",
        "\n",
        "**s (Sabah saatlerinde gelen kişi sayısı)** = 200\n",
        "\n",
        "**f (Kilo Vermek İsteyen Kişi Sayısı)** = 3000 * 40 / 100 = 1200\n",
        "\n",
        "*Her kişi ile karşılaşma eşit şanslı olay olursa:*\n",
        "\n",
        "**P (kilo vermek isten kişi sayısı)** = 1 - C (p-f,s) / C (p,s)"
      ]
    },
    {
      "cell_type": "code",
      "metadata": {
        "id": "gymwcNFkBnka",
        "colab_type": "code",
        "colab": {
          "base_uri": "https://localhost:8080/",
          "height": 34
        },
        "outputId": "268311c6-38bd-480a-ae4d-3f4add2a662d"
      },
      "source": [
        "print(\"Kilo vermek isteyen kişi sayısı:\",3000 * 40 / 100)"
      ],
      "execution_count": 49,
      "outputs": [
        {
          "output_type": "stream",
          "text": [
            "Kilo vermek isteyen kişi sayısı: 1200.0\n"
          ],
          "name": "stdout"
        }
      ]
    },
    {
      "cell_type": "code",
      "metadata": {
        "id": "0H7WoDNB_ae_",
        "colab_type": "code",
        "colab": {}
      },
      "source": [
        "def faktoriyel(sayi):\n",
        "    if sayi==1:\n",
        "        return 1\n",
        "    else:\n",
        "        return sayi * faktoriyel(sayi-1) \n",
        "\n",
        "\n",
        "def kombinasyon(n,r):\n",
        "  return faktoriyel(n)/(faktoriyel(n-r)*faktoriyel(r))"
      ],
      "execution_count": 0,
      "outputs": []
    },
    {
      "cell_type": "code",
      "metadata": {
        "id": "uSKM7JSpAtkE",
        "colab_type": "code",
        "colab": {
          "base_uri": "https://localhost:8080/",
          "height": 391
        },
        "outputId": "5fc56750-3094-4717-d5dc-642f14a5fbf9"
      },
      "source": [
        "p=3000\n",
        "s=50\n",
        "f=1200\n",
        "k=p-f\n",
        "\n",
        "P=1-kombinasyon(k,s)/kombinasyon(p,s)\n",
        "print(P)"
      ],
      "execution_count": 51,
      "outputs": [
        {
          "output_type": "error",
          "ename": "RecursionError",
          "evalue": "ignored",
          "traceback": [
            "\u001b[0;31m---------------------------------------------------------------------------\u001b[0m",
            "\u001b[0;31mRecursionError\u001b[0m                            Traceback (most recent call last)",
            "\u001b[0;32m<ipython-input-51-ae0a9d13e796>\u001b[0m in \u001b[0;36m<module>\u001b[0;34m()\u001b[0m\n\u001b[1;32m      4\u001b[0m \u001b[0mk\u001b[0m\u001b[0;34m=\u001b[0m\u001b[0mp\u001b[0m\u001b[0;34m-\u001b[0m\u001b[0mf\u001b[0m\u001b[0;34m\u001b[0m\u001b[0;34m\u001b[0m\u001b[0m\n\u001b[1;32m      5\u001b[0m \u001b[0;34m\u001b[0m\u001b[0m\n\u001b[0;32m----> 6\u001b[0;31m \u001b[0mP\u001b[0m\u001b[0;34m=\u001b[0m\u001b[0;36m1\u001b[0m\u001b[0;34m-\u001b[0m\u001b[0mkombinasyon\u001b[0m\u001b[0;34m(\u001b[0m\u001b[0mk\u001b[0m\u001b[0;34m,\u001b[0m\u001b[0ms\u001b[0m\u001b[0;34m)\u001b[0m\u001b[0;34m/\u001b[0m\u001b[0mkombinasyon\u001b[0m\u001b[0;34m(\u001b[0m\u001b[0mp\u001b[0m\u001b[0;34m,\u001b[0m\u001b[0ms\u001b[0m\u001b[0;34m)\u001b[0m\u001b[0;34m\u001b[0m\u001b[0;34m\u001b[0m\u001b[0m\n\u001b[0m\u001b[1;32m      7\u001b[0m \u001b[0mprint\u001b[0m\u001b[0;34m(\u001b[0m\u001b[0mP\u001b[0m\u001b[0;34m)\u001b[0m\u001b[0;34m\u001b[0m\u001b[0;34m\u001b[0m\u001b[0m\n",
            "\u001b[0;32m<ipython-input-50-82dd6c301b78>\u001b[0m in \u001b[0;36mkombinasyon\u001b[0;34m(n, r)\u001b[0m\n\u001b[1;32m      7\u001b[0m \u001b[0;34m\u001b[0m\u001b[0m\n\u001b[1;32m      8\u001b[0m \u001b[0;32mdef\u001b[0m \u001b[0mkombinasyon\u001b[0m\u001b[0;34m(\u001b[0m\u001b[0mn\u001b[0m\u001b[0;34m,\u001b[0m\u001b[0mr\u001b[0m\u001b[0;34m)\u001b[0m\u001b[0;34m:\u001b[0m\u001b[0;34m\u001b[0m\u001b[0;34m\u001b[0m\u001b[0m\n\u001b[0;32m----> 9\u001b[0;31m   \u001b[0;32mreturn\u001b[0m \u001b[0mfaktoriyel\u001b[0m\u001b[0;34m(\u001b[0m\u001b[0mn\u001b[0m\u001b[0;34m)\u001b[0m\u001b[0;34m/\u001b[0m\u001b[0;34m(\u001b[0m\u001b[0mfaktoriyel\u001b[0m\u001b[0;34m(\u001b[0m\u001b[0mn\u001b[0m\u001b[0;34m-\u001b[0m\u001b[0mr\u001b[0m\u001b[0;34m)\u001b[0m\u001b[0;34m*\u001b[0m\u001b[0mfaktoriyel\u001b[0m\u001b[0;34m(\u001b[0m\u001b[0mr\u001b[0m\u001b[0;34m)\u001b[0m\u001b[0;34m)\u001b[0m\u001b[0;34m\u001b[0m\u001b[0;34m\u001b[0m\u001b[0m\n\u001b[0m",
            "\u001b[0;32m<ipython-input-50-82dd6c301b78>\u001b[0m in \u001b[0;36mfaktoriyel\u001b[0;34m(sayi)\u001b[0m\n\u001b[1;32m      3\u001b[0m         \u001b[0;32mreturn\u001b[0m \u001b[0;36m1\u001b[0m\u001b[0;34m\u001b[0m\u001b[0;34m\u001b[0m\u001b[0m\n\u001b[1;32m      4\u001b[0m     \u001b[0;32melse\u001b[0m\u001b[0;34m:\u001b[0m\u001b[0;34m\u001b[0m\u001b[0;34m\u001b[0m\u001b[0m\n\u001b[0;32m----> 5\u001b[0;31m         \u001b[0;32mreturn\u001b[0m \u001b[0msayi\u001b[0m \u001b[0;34m*\u001b[0m \u001b[0mfaktoriyel\u001b[0m\u001b[0;34m(\u001b[0m\u001b[0msayi\u001b[0m\u001b[0;34m-\u001b[0m\u001b[0;36m1\u001b[0m\u001b[0;34m)\u001b[0m\u001b[0;34m\u001b[0m\u001b[0;34m\u001b[0m\u001b[0m\n\u001b[0m\u001b[1;32m      6\u001b[0m \u001b[0;34m\u001b[0m\u001b[0m\n\u001b[1;32m      7\u001b[0m \u001b[0;34m\u001b[0m\u001b[0m\n",
            "... last 1 frames repeated, from the frame below ...\n",
            "\u001b[0;32m<ipython-input-50-82dd6c301b78>\u001b[0m in \u001b[0;36mfaktoriyel\u001b[0;34m(sayi)\u001b[0m\n\u001b[1;32m      3\u001b[0m         \u001b[0;32mreturn\u001b[0m \u001b[0;36m1\u001b[0m\u001b[0;34m\u001b[0m\u001b[0;34m\u001b[0m\u001b[0m\n\u001b[1;32m      4\u001b[0m     \u001b[0;32melse\u001b[0m\u001b[0;34m:\u001b[0m\u001b[0;34m\u001b[0m\u001b[0;34m\u001b[0m\u001b[0m\n\u001b[0;32m----> 5\u001b[0;31m         \u001b[0;32mreturn\u001b[0m \u001b[0msayi\u001b[0m \u001b[0;34m*\u001b[0m \u001b[0mfaktoriyel\u001b[0m\u001b[0;34m(\u001b[0m\u001b[0msayi\u001b[0m\u001b[0;34m-\u001b[0m\u001b[0;36m1\u001b[0m\u001b[0;34m)\u001b[0m\u001b[0;34m\u001b[0m\u001b[0;34m\u001b[0m\u001b[0m\n\u001b[0m\u001b[1;32m      6\u001b[0m \u001b[0;34m\u001b[0m\u001b[0m\n\u001b[1;32m      7\u001b[0m \u001b[0;34m\u001b[0m\u001b[0m\n",
            "\u001b[0;31mRecursionError\u001b[0m: maximum recursion depth exceeded in comparison"
          ]
        }
      ]
    },
    {
      "cell_type": "markdown",
      "metadata": {
        "id": "YPx_i02sIHgR",
        "colab_type": "text"
      },
      "source": [
        "Recursive fonksiyon ile ilgili `RecursionError: maximum recursion depth exceeded in comparison` yani `Özyineleme Hatası: maksimum özyineleme derinliği karşılaştırmaya göre aşıldı` hatası almaktayız. Bu yüzden recursive fonksiyon yerine farklı bir yöntemle faktöriyel hesaplaması yapmalıyız.\n",
        "\n",
        "Bunun için aşağıdaki faktöriyel hesaplamasını yapan fonksiyonu işlemi tekrar denemekteyiz."
      ]
    },
    {
      "cell_type": "code",
      "metadata": {
        "id": "EsRgSOpgIFbW",
        "colab_type": "code",
        "colab": {}
      },
      "source": [
        "def faktoriyel(sayi):\n",
        "  sonuc=1\n",
        "  for i in range(1,sayi+1):\n",
        "    sonuc=sonuc*i\n",
        "  return sonuc"
      ],
      "execution_count": 0,
      "outputs": []
    },
    {
      "cell_type": "code",
      "metadata": {
        "id": "YpMm68x3I1Cj",
        "colab_type": "code",
        "colab": {
          "base_uri": "https://localhost:8080/",
          "height": 34
        },
        "outputId": "0df77e32-248d-4b35-a158-8ff563970161"
      },
      "source": [
        "p=3000\n",
        "s=50\n",
        "f=1200\n",
        "k=p-f\n",
        "\n",
        "P=1-kombinasyon(k,s)/kombinasyon(p,s)\n",
        "print(P)"
      ],
      "execution_count": 53,
      "outputs": [
        {
          "output_type": "stream",
          "text": [
            "0.9999999999938683\n"
          ],
          "name": "stdout"
        }
      ]
    },
    {
      "cell_type": "markdown",
      "metadata": {
        "id": "DUarYWenBHJ6",
        "colab_type": "text"
      },
      "source": [
        "### Sonuca bu fonksiyonlar ile ulaştık. Ama bu işlemlerdeki değerlere sadeleştirme işlemi uygulayarak sonuca daha hızlı bir şekilde ulaşabiliriz.\n",
        "Sadeleştirme işlemi yapılarak daha kısa sürede faktöriyel hesaplanabilir.\n",
        "\n",
        "**Bu adımlar aşağıdaki gibidir;**\n",
        "\n",
        "K(n,r) kombinasyon işlemindeki n ile n-r değerleri karşılaştırırız. Bu değerlerden büyük olan değeri bölen değerle sadeleştirdikten sonra çarpım sonucunu hesaplatacağım değerleri faktöriyel fonksiyonuna gönderiririz. Sonraki adımda ise bir önceki adımda bulmuş olduğumuz değer ile küçük olan sayının faktöriyelini birbirine böleriz.\n",
        "\n",
        "**Ör: K(8,2) değerini ele alalım.** \n",
        "\n",
        "**Adım-1:** 8 ile 6 sayısını karşılaştırdığımızda 6 değeri daha büyük olduğu için sadeleştirme işleminde bu iki sayıyı kullanırız.\n",
        "\n",
        "**Adım-2:** 8! ile 6! sayılarını sadeleştirdiğimizde elimizde 7*8 değeri kalmaktadır.Faktöriyele bu değerlerin başlangıç ve son değerini gönderdiğimizde bize bu sayıların çarpımını geri döndürür.\n",
        "\n",
        "**Adım-3:** 2! değerini hesaplatıp 2.adımda bulmuş olduğumuz 56 sonucunu 2 değerine böleriz. Böylelikle 28 değerine ulaşmış oluruz."
      ]
    },
    {
      "cell_type": "code",
      "metadata": {
        "id": "tw2DtJ5dLoTD",
        "colab_type": "code",
        "colab": {}
      },
      "source": [
        "def fakt(n,r):\n",
        "  sonuc=1\n",
        "  for i in range(r+1,n+1):\n",
        "  #r+1 den n değerine kadar faktöriyelini hesaplarız\n",
        "    sonuc=sonuc*i\n",
        "  return sonuc\n",
        "\n",
        "def komb(n,r):\n",
        "  nr=n-r\n",
        "  if nr>r:\n",
        "    K=fakt(n,nr)\n",
        "    K=K/fakt(r,1)\n",
        "  else:\n",
        "    K=fakt(n,r)\n",
        "    K=K/fakt(nr,1)\n",
        "  return K"
      ],
      "execution_count": 0,
      "outputs": []
    },
    {
      "cell_type": "markdown",
      "metadata": {
        "id": "junMuK9qL9Ij",
        "colab_type": "text"
      },
      "source": [
        "***Sağlama yapacak olursak;***"
      ]
    },
    {
      "cell_type": "code",
      "metadata": {
        "id": "7U3g8gV7L_hW",
        "colab_type": "code",
        "colab": {
          "base_uri": "https://localhost:8080/",
          "height": 34
        },
        "outputId": "4b7ae17a-9e01-4371-8a4e-9840529910ae"
      },
      "source": [
        "print(komb(8,2))"
      ],
      "execution_count": 56,
      "outputs": [
        {
          "output_type": "stream",
          "text": [
            "28.0\n"
          ],
          "name": "stdout"
        }
      ]
    },
    {
      "cell_type": "code",
      "metadata": {
        "id": "CTU7z9wtBKxL",
        "colab_type": "code",
        "colab": {
          "base_uri": "https://localhost:8080/",
          "height": 34
        },
        "outputId": "17ebe1dc-9daf-4d3c-fd1d-38241c46ee9a"
      },
      "source": [
        "p=3000\n",
        "s=50\n",
        "f=1200\n",
        "k=p-f\n",
        "\n",
        "P=1-komb(k,s)/komb(p,s)\n",
        "print(P)\n"
      ],
      "execution_count": 57,
      "outputs": [
        {
          "output_type": "stream",
          "text": [
            "0.9999999999938683\n"
          ],
          "name": "stdout"
        }
      ]
    },
    {
      "cell_type": "markdown",
      "metadata": {
        "id": "9YxOasNnMKYQ",
        "colab_type": "text"
      },
      "source": [
        "**Sonuç:** Sabah saatlerinde kulübe gelen kişilerden kilo vermek isteyen bir kişiyle karşılaşma olasılığımız **0.9999999999938683** olarak bulunur."
      ]
    }
  ]
}