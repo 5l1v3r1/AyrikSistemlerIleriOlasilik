{
  "nbformat": 4,
  "nbformat_minor": 0,
  "metadata": {
    "colab": {
      "name": "GozdeAltinsoyOdev4.ipynb",
      "provenance": [],
      "collapsed_sections": [],
      "authorship_tag": "ABX9TyPNydGlDKivCZVBTpG7Ap4C",
      "include_colab_link": true
    },
    "kernelspec": {
      "name": "python3",
      "display_name": "Python 3"
    }
  },
  "cells": [
    {
      "cell_type": "markdown",
      "metadata": {
        "id": "view-in-github",
        "colab_type": "text"
      },
      "source": [
        "<a href=\"https://colab.research.google.com/github/gmihran/AyrikSistemlerIleriOlasilik/blob/master/GozdeAltinsoyOdev4.ipynb\" target=\"_parent\"><img src=\"https://colab.research.google.com/assets/colab-badge.svg\" alt=\"Open In Colab\"/></a>"
      ]
    },
    {
      "cell_type": "markdown",
      "metadata": {
        "id": "SnIny---v6ig",
        "colab_type": "text"
      },
      "source": [
        "# Rastgele Değişken Problemi\n"
      ]
    },
    {
      "cell_type": "markdown",
      "metadata": {
        "id": "96ffG3m1_SHM",
        "colab_type": "text"
      },
      "source": [
        "## Varyans Kesikli Olasılık Dağılımı\n",
        "\n",
        "### Var[X] veya σ^2 \n",
        "\n",
        "**σ** *Standart Sapma - Sigma*\n",
        "\n",
        "> Var[X] = E[X^2] - (E[X])^2\n",
        "\n",
        "> E[X] = ∑ x * P(X=x)\n",
        "\n",
        "> E[X^2] = ∑ x^2 * P(X=x)\n",
        "\n",
        "\n",
        "\n",
        "\n",
        "\n",
        "\n",
        "\n"
      ]
    },
    {
      "cell_type": "code",
      "metadata": {
        "id": "jrvTDXjUDZPg",
        "colab_type": "code",
        "colab": {}
      },
      "source": [
        "def varyansKesikliOlasilik():\n",
        "  global X,PX\n",
        "  ex=EX()\n",
        "  print(\"E[X]:\",ex)\n",
        "  ex2=EX2()\n",
        "  print(\"E[X^2]:\",ex2)\n",
        "  var=ex2-pow(ex,2)\n",
        "  print(\"Var[X]:\",var)\n",
        "\n",
        "def EX():\n",
        "  global X,PX\n",
        "  ex=0\n",
        "  for i in range(len(X)):\n",
        "    ex+=X[i]*PX[i]\n",
        "  return ex\n",
        "\n",
        "def EX2():\n",
        "  global X,PX\n",
        "  ex2=0\n",
        "  for i in range(len(X)):\n",
        "    ex2+=pow(X[i],2)*PX[i]\n",
        "  return ex2"
      ],
      "execution_count": 0,
      "outputs": []
    },
    {
      "cell_type": "markdown",
      "metadata": {
        "id": "5_OYgA-bDdmh",
        "colab_type": "text"
      },
      "source": [
        "# [Örnek-1:]"
      ]
    },
    {
      "cell_type": "markdown",
      "metadata": {
        "id": "9xpy-084khjp",
        "colab_type": "text"
      },
      "source": [
        "![Kesikli Olasılık Örnek1](https://github.com/gmihran/AyrikSistemlerIleriOlasilik/blob/master/resimler/Kesikli%20Olas%C4%B1l%C4%B1k%20Varyans.jpg?raw=true)"
      ]
    },
    {
      "cell_type": "code",
      "metadata": {
        "id": "r-3rD5Fwifzm",
        "colab_type": "code",
        "outputId": "a2482da6-3585-4aa8-8a5d-5d2ad0a80b4c",
        "colab": {
          "base_uri": "https://localhost:8080/",
          "height": 67
        }
      },
      "source": [
        "X=[1,2,3]\n",
        "PX=[3/7,2/7,2/7]\n",
        "varyansKesikliOlasilik()"
      ],
      "execution_count": 0,
      "outputs": [
        {
          "output_type": "stream",
          "text": [
            "E[X]: 1.8571428571428572\n",
            "E[X^2]: 4.142857142857142\n",
            "Var[X]: 0.6938775510204076\n"
          ],
          "name": "stdout"
        }
      ]
    },
    {
      "cell_type": "markdown",
      "metadata": {
        "id": "j5lfX6EOop3x",
        "colab_type": "text"
      },
      "source": [
        "\n",
        "\n",
        "---\n",
        "\n"
      ]
    },
    {
      "cell_type": "markdown",
      "metadata": {
        "id": "ivKXyF8sigd6",
        "colab_type": "text"
      },
      "source": [
        "# Örnek-2"
      ]
    },
    {
      "cell_type": "markdown",
      "metadata": {
        "id": "6D_bU9JuD0EP",
        "colab_type": "text"
      },
      "source": [
        "![Kesikli Olasılık Örnek2](https://github.com/gmihran/AyrikSistemlerIleriOlasilik/blob/master/resimler/Kesikli%20Olas%C4%B1l%C4%B1k%20Varyans2.jpg?raw=true)"
      ]
    },
    {
      "cell_type": "code",
      "metadata": {
        "id": "zAeqSSOIF99y",
        "colab_type": "code",
        "colab": {}
      },
      "source": [
        "def cHesapla():\n",
        "  global FX,PX,c\n",
        "  PX=[]\n",
        "  ctoplam=0\n",
        "  for i in range(len(FX)):\n",
        "    PX.append(int(FX[i].split(\"c\")[0]))\n",
        "    ctoplam+=PX[i]\n",
        "  c=1/ctoplam\n",
        "  print(\"c:\",c)"
      ],
      "execution_count": 0,
      "outputs": []
    },
    {
      "cell_type": "code",
      "metadata": {
        "id": "AKk2t1C4DvwC",
        "colab_type": "code",
        "outputId": "c22a0064-9db3-4ae8-c7c7-6fb18c6f2c57",
        "colab": {
          "base_uri": "https://localhost:8080/",
          "height": 34
        }
      },
      "source": [
        "X=[1,2,3,4]\n",
        "FX=[\"1c\",\"2c\",\"1c\",\"3c\"]\n",
        "cHesapla()"
      ],
      "execution_count": 0,
      "outputs": [
        {
          "output_type": "stream",
          "text": [
            "c: 0.14285714285714285\n"
          ],
          "name": "stdout"
        }
      ]
    },
    {
      "cell_type": "markdown",
      "metadata": {
        "id": "heAjIb6mgFQf",
        "colab_type": "text"
      },
      "source": [
        "![Kesikli Olasılık Örnek2](https://github.com/gmihran/AyrikSistemlerIleriOlasilik/blob/master/resimler/Kesikli%20Olas%C4%B1l%C4%B1k%20Varyans3.jpg?raw=true)\n"
      ]
    },
    {
      "cell_type": "code",
      "metadata": {
        "id": "lrCjeO14gKke",
        "colab_type": "code",
        "colab": {}
      },
      "source": [
        "def pxHesapla():\n",
        "  global FX,PX\n",
        "  for i in range(len(FX)):\n",
        "    PX[i]=PX[i]*c\n",
        "    print(\"PX[{}]:{}\".format(i+1,PX[i]))"
      ],
      "execution_count": 0,
      "outputs": []
    },
    {
      "cell_type": "code",
      "metadata": {
        "id": "dORh63nlgLhI",
        "colab_type": "code",
        "outputId": "f0292697-cff6-4855-ba1e-7010b70524f1",
        "colab": {
          "base_uri": "https://localhost:8080/",
          "height": 84
        }
      },
      "source": [
        "pxHesapla()"
      ],
      "execution_count": 0,
      "outputs": [
        {
          "output_type": "stream",
          "text": [
            "PX[1]:0.14285714285714285\n",
            "PX[2]:0.2857142857142857\n",
            "PX[3]:0.14285714285714285\n",
            "PX[4]:0.42857142857142855\n"
          ],
          "name": "stdout"
        }
      ]
    },
    {
      "cell_type": "markdown",
      "metadata": {
        "id": "6zU7TgDYgXLt",
        "colab_type": "text"
      },
      "source": [
        "![Kesikli Olasılık Örnek2](https://github.com/gmihran/AyrikSistemlerIleriOlasilik/blob/master/resimler/Kesikli%20Olas%C4%B1l%C4%B1k%20Varyans4.jpg?raw=true)"
      ]
    },
    {
      "cell_type": "code",
      "metadata": {
        "id": "31xj0j9bh6pJ",
        "colab_type": "code",
        "colab": {}
      },
      "source": [
        "def pxDurum(min,mak):\n",
        "  global PX,pxToplam\n",
        "  pxToplam=0\n",
        "  for i in range(min-1,mak):\n",
        "    pxToplam+=PX[i]\n",
        "  print(\"P({}<=X<={}) = {}\".format(min,mak,pxToplam))"
      ],
      "execution_count": 0,
      "outputs": []
    },
    {
      "cell_type": "code",
      "metadata": {
        "id": "yiZki-Hzi_Z4",
        "colab_type": "code",
        "outputId": "374f5153-76b8-4554-8100-f87589b2c79e",
        "colab": {
          "base_uri": "https://localhost:8080/",
          "height": 34
        }
      },
      "source": [
        "pxDurum(1,3)"
      ],
      "execution_count": 0,
      "outputs": [
        {
          "output_type": "stream",
          "text": [
            "P(1<=X<=3) = 0.5714285714285714\n"
          ],
          "name": "stdout"
        }
      ]
    },
    {
      "cell_type": "markdown",
      "metadata": {
        "id": "UPUAa1w9jR2z",
        "colab_type": "text"
      },
      "source": [
        "![Kesikli Olasılık Örnek2](https://github.com/gmihran/AyrikSistemlerIleriOlasilik/blob/master/resimler/Kesikli%20Olas%C4%B1l%C4%B1k%20Varyans5.jpg?raw=true)\n",
        "\n",
        "![Kesikli Olasılık Örnek2](https://github.com/gmihran/AyrikSistemlerIleriOlasilik/blob/master/resimler/Kesikli%20Olas%C4%B1l%C4%B1k%20Varyans6.jpg?raw=true)"
      ]
    },
    {
      "cell_type": "code",
      "metadata": {
        "id": "ZKBGKmLfjbpn",
        "colab_type": "code",
        "outputId": "886c5df7-8ddb-4d1b-86ec-bd4effeaf4db",
        "colab": {
          "base_uri": "https://localhost:8080/",
          "height": 67
        }
      },
      "source": [
        "varyansKesikliOlasilik()"
      ],
      "execution_count": 0,
      "outputs": [
        {
          "output_type": "stream",
          "text": [
            "E[X]: 2.8571428571428568\n",
            "E[X^2]: 9.428571428571427\n",
            "Var[X]: 1.2653061224489797\n"
          ],
          "name": "stdout"
        }
      ]
    },
    {
      "cell_type": "markdown",
      "metadata": {
        "id": "NhUtHbjNonI0",
        "colab_type": "text"
      },
      "source": [
        "\n",
        "\n",
        "---\n",
        "\n"
      ]
    },
    {
      "cell_type": "markdown",
      "metadata": {
        "id": "QQC_qVPclBt0",
        "colab_type": "text"
      },
      "source": [
        "# Örnek-3"
      ]
    },
    {
      "cell_type": "markdown",
      "metadata": {
        "id": "pDX4_skilHsg",
        "colab_type": "text"
      },
      "source": [
        "![Kesikli Olasılık Örnek3](https://github.com/gmihran/AyrikSistemlerIleriOlasilik/blob/master/resimler/Kesikli%20Olas%C4%B1l%C4%B1k%20Varyans7.jpg?raw=true)"
      ]
    },
    {
      "cell_type": "code",
      "metadata": {
        "id": "mZYH0qWymgGW",
        "colab_type": "code",
        "outputId": "da29dd19-9a5d-41d2-81eb-3b8db9b7f708",
        "colab": {
          "base_uri": "https://localhost:8080/",
          "height": 34
        }
      },
      "source": [
        "X=[1,2,3,4]\n",
        "FX=[\"1c\",\"2c\",\"3c\",\"4c\"]\n",
        "cHesapla()"
      ],
      "execution_count": 0,
      "outputs": [
        {
          "output_type": "stream",
          "text": [
            "c: 0.1\n"
          ],
          "name": "stdout"
        }
      ]
    },
    {
      "cell_type": "markdown",
      "metadata": {
        "id": "o1IECAWGmOlo",
        "colab_type": "text"
      },
      "source": [
        "![Kesikli Olasılık Örnek3](https://github.com/gmihran/AyrikSistemlerIleriOlasilik/blob/master/resimler/Kesikli%20Olas%C4%B1l%C4%B1k%20Varyans8.jpg?raw=true)"
      ]
    },
    {
      "cell_type": "code",
      "metadata": {
        "id": "dlf7ULlBmuJ_",
        "colab_type": "code",
        "outputId": "5b9435ee-cd3f-46a3-ef95-8477bb8e1e15",
        "colab": {
          "base_uri": "https://localhost:8080/",
          "height": 84
        }
      },
      "source": [
        "pxHesapla()"
      ],
      "execution_count": 0,
      "outputs": [
        {
          "output_type": "stream",
          "text": [
            "PX[1]:0.1\n",
            "PX[2]:0.2\n",
            "PX[3]:0.30000000000000004\n",
            "PX[4]:0.4\n"
          ],
          "name": "stdout"
        }
      ]
    },
    {
      "cell_type": "markdown",
      "metadata": {
        "id": "goktSuiqmRnK",
        "colab_type": "text"
      },
      "source": [
        "![Kesikli Olasılık Örnek3](https://github.com/gmihran/AyrikSistemlerIleriOlasilik/blob/master/resimler/Kesikli%20Olas%C4%B1l%C4%B1k%20Varyans9.jpg?raw=true)"
      ]
    },
    {
      "cell_type": "code",
      "metadata": {
        "id": "zu3pBnhemyZk",
        "colab_type": "code",
        "outputId": "bb594790-1b56-4b95-dc75-de9814c66fdd",
        "colab": {
          "base_uri": "https://localhost:8080/",
          "height": 34
        }
      },
      "source": [
        "pxDurum(3,4)"
      ],
      "execution_count": 0,
      "outputs": [
        {
          "output_type": "stream",
          "text": [
            "P(3<=X<=4) = 0.7000000000000001\n"
          ],
          "name": "stdout"
        }
      ]
    },
    {
      "cell_type": "markdown",
      "metadata": {
        "id": "vlpELi19mSWy",
        "colab_type": "text"
      },
      "source": [
        "![Kesikli Olasılık Örnek3](https://github.com/gmihran/AyrikSistemlerIleriOlasilik/blob/master/resimler/Kesikli%20Olas%C4%B1l%C4%B1k%20Varyans10.jpg?raw=true)"
      ]
    },
    {
      "cell_type": "code",
      "metadata": {
        "id": "KL8ESPz2oc7K",
        "colab_type": "code",
        "outputId": "709b0f23-3570-4b05-a965-149a79fee99a",
        "colab": {
          "base_uri": "https://localhost:8080/",
          "height": 67
        }
      },
      "source": [
        "varyansKesikliOlasilik()"
      ],
      "execution_count": 0,
      "outputs": [
        {
          "output_type": "stream",
          "text": [
            "E[X]: 3.0\n",
            "E[X^2]: 10.0\n",
            "Var[X]: 1.0\n"
          ],
          "name": "stdout"
        }
      ]
    },
    {
      "cell_type": "markdown",
      "metadata": {
        "id": "Lj-uE-lGot8u",
        "colab_type": "text"
      },
      "source": [
        "\n",
        "\n",
        "---\n",
        "\n"
      ]
    },
    {
      "cell_type": "markdown",
      "metadata": {
        "id": "qq8balezpGWk",
        "colab_type": "text"
      },
      "source": [
        "## Ayrık Dağılımlar\n",
        "\n",
        "**σ** = **√σ^2** *Standart Sapma - Sigma*\n",
        "\n",
        "Ortalaması 𝛍 olan rastgele X degişkenin varyansı\n",
        "\n",
        "> Var(X) = E[X^2] - (E[X])^2\n",
        "\n",
        "> Var(X) = σ^2 = E[(X-µ)^2]"
      ]
    },
    {
      "cell_type": "code",
      "metadata": {
        "id": "BnLNP58KJVa_",
        "colab_type": "code",
        "colab": {}
      },
      "source": [
        "from math import sqrt\n",
        "\n",
        "#Yöntem-1:\n",
        "def varyans():\n",
        "  global X,var,u,q\n",
        "  var=0\n",
        "  U()\n",
        "  print(\"µ=\",u)\n",
        "  for i in range(len(X)):\n",
        "    var=var+pow((X[i]-u),2)/len(X)\n",
        "  print(\"Var(X):\",var)\n",
        "  Q()\n",
        "  print(\"σ:\",q,\"\\n\")\n",
        "\n",
        "def U():\n",
        "  global X,u\n",
        "  u=sum(X)/len(X)\n",
        "\n",
        "def Q():\n",
        "  global var,q\n",
        "  q=sqrt(var)\n",
        "\n",
        "#Yöntem-2:\n",
        "def varyans2():\n",
        "  global X,var,ex,ex2\n",
        "  EX()\n",
        "  print(\"Ex=\",ex)\n",
        "  EX2()\n",
        "  var=ex2-pow(ex,2)\n",
        "  print(\"Var(X):\",var)\n",
        "  print(\"σ:\",q,\"\\n\")\n",
        "\n",
        "def EX():\n",
        "  global X,ex\n",
        "  ex=sum(X)/len(X)\n",
        "\n",
        "def EX2():\n",
        "  global X,ex2\n",
        "  ex2=0\n",
        "  for i in range(len(X)):\n",
        "    ex2=ex2+pow(X[i],2)/len(X)"
      ],
      "execution_count": 0,
      "outputs": []
    },
    {
      "cell_type": "markdown",
      "metadata": {
        "id": "_pE_AliPDexx",
        "colab_type": "text"
      },
      "source": [
        "\n",
        "\n",
        "---\n",
        "\n"
      ]
    },
    {
      "cell_type": "markdown",
      "metadata": {
        "id": "z_8G0_V3DZd4",
        "colab_type": "text"
      },
      "source": [
        "# Örnek-4"
      ]
    },
    {
      "cell_type": "markdown",
      "metadata": {
        "id": "Y-4VjsgCuH00",
        "colab_type": "text"
      },
      "source": [
        "![Ayrık Dağılımlar Varyans](https://github.com/gmihran/AyrikSistemlerIleriOlasilik/blob/master/resimler/Ayr%C4%B1k%20Da%C4%9F%C4%B1l%C4%B1mlar%20Varyans3.jpg?raw=true)\n",
        "\n",
        "![Ayrık Dağılımlar Varyans](https://github.com/gmihran/AyrikSistemlerIleriOlasilik/blob/master/resimler/Ayr%C4%B1k%20Da%C4%9F%C4%B1l%C4%B1mlar%20Varyans4.jpg?raw=true)"
      ]
    },
    {
      "cell_type": "markdown",
      "metadata": {
        "id": "SHiR8EjQpSlS",
        "colab_type": "text"
      },
      "source": [
        "![Ayrık Dağılımlar Varyans1](https://github.com/gmihran/AyrikSistemlerIleriOlasilik/blob/master/resimler/Ayr%C4%B1k%20Da%C4%9F%C4%B1l%C4%B1mlar%20Varyans1.jpg?raw=true)"
      ]
    },
    {
      "cell_type": "code",
      "metadata": {
        "id": "UrswFveNpNYJ",
        "colab_type": "code",
        "outputId": "04a35fc3-c7b8-4309-d8cd-a3f63d847dc6",
        "colab": {
          "base_uri": "https://localhost:8080/",
          "height": 84
        }
      },
      "source": [
        "X=[-10,0,10,20,30]\n",
        "varyans()"
      ],
      "execution_count": 0,
      "outputs": [
        {
          "output_type": "stream",
          "text": [
            "µ= 10.0\n",
            "Var(X): 200.0\n",
            "σ: 14.142135623730951 \n",
            "\n"
          ],
          "name": "stdout"
        }
      ]
    },
    {
      "cell_type": "markdown",
      "metadata": {
        "id": "IXpRYwbHEExD",
        "colab_type": "text"
      },
      "source": [
        "\n",
        "\n",
        "---\n",
        "\n"
      ]
    },
    {
      "cell_type": "markdown",
      "metadata": {
        "id": "7RIicHHNEFZA",
        "colab_type": "text"
      },
      "source": [
        "# Örnek-5"
      ]
    },
    {
      "cell_type": "markdown",
      "metadata": {
        "id": "yO1QHsotD-Bz",
        "colab_type": "text"
      },
      "source": [
        "![Ayrık Dağılımlar Varyans](https://github.com/gmihran/AyrikSistemlerIleriOlasilik/blob/master/resimler/Ayr%C4%B1k%20Da%C4%9F%C4%B1l%C4%B1mlar%20Varyans3.jpg?raw=true)\n",
        "\n",
        "![Ayrık Dağılımlar Varyans](https://github.com/gmihran/AyrikSistemlerIleriOlasilik/blob/master/resimler/Ayr%C4%B1k%20Da%C4%9F%C4%B1l%C4%B1mlar%20Varyans4.jpg?raw=true)"
      ]
    },
    {
      "cell_type": "markdown",
      "metadata": {
        "id": "NdpVQ01VqZWM",
        "colab_type": "text"
      },
      "source": [
        "![Ayrık Dağılımlar Varyans2](https://github.com/gmihran/AyrikSistemlerIleriOlasilik/blob/master/resimler/Ayr%C4%B1k%20Da%C4%9F%C4%B1l%C4%B1mlar%20Varyans2.jpg?raw=true)"
      ]
    },
    {
      "cell_type": "code",
      "metadata": {
        "id": "ZgSTD0OwpPcf",
        "colab_type": "code",
        "outputId": "52d12e2c-53ea-4d6f-f233-6c6ac7513de0",
        "colab": {
          "base_uri": "https://localhost:8080/",
          "height": 84
        }
      },
      "source": [
        "X=[6,8,10,12,14]\n",
        "varyans()"
      ],
      "execution_count": 0,
      "outputs": [
        {
          "output_type": "stream",
          "text": [
            "µ= 10.0\n",
            "Var(X): 8.0\n",
            "σ: 2.8284271247461903 \n",
            "\n"
          ],
          "name": "stdout"
        }
      ]
    },
    {
      "cell_type": "markdown",
      "metadata": {
        "id": "7FrDw7_CDopg",
        "colab_type": "text"
      },
      "source": [
        "\n",
        "\n",
        "---\n",
        "\n"
      ]
    },
    {
      "cell_type": "markdown",
      "metadata": {
        "id": "Gq4YJ6ERDprP",
        "colab_type": "text"
      },
      "source": [
        "# Örnek-6"
      ]
    },
    {
      "cell_type": "markdown",
      "metadata": {
        "id": "Szmo6rqMu4VO",
        "colab_type": "text"
      },
      "source": [
        "![Zar Örneği](https://github.com/gmihran/AyrikSistemlerIleriOlasilik/blob/master/resimler/Ayr%C4%B1k%20Da%C4%9F%C4%B1l%C4%B1mlar%20Varyans5.jpg?raw=true)"
      ]
    },
    {
      "cell_type": "code",
      "metadata": {
        "id": "0BqjShCdtbDD",
        "colab_type": "code",
        "outputId": "8f244981-1e76-48a1-8eb9-e017dea3d92a",
        "colab": {
          "base_uri": "https://localhost:8080/",
          "height": 151
        }
      },
      "source": [
        "X=[1,2,3,4,5,6]\n",
        "varyans()\n",
        "\n",
        "X=[1,2,3,4,5,6]\n",
        "varyans2()"
      ],
      "execution_count": 0,
      "outputs": [
        {
          "output_type": "stream",
          "text": [
            "µ= 3.5\n",
            "Var(X): 2.916666666666667\n",
            "σ: 1.7078251276599332 \n",
            "\n",
            "Ex= 3.5\n",
            "Var(X): 2.916666666666668\n",
            "σ: 1.7078251276599332 \n",
            "\n"
          ],
          "name": "stdout"
        }
      ]
    }
  ]
}